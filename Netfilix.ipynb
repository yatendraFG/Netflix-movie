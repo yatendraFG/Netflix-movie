{
 "cells": [
  {
   "cell_type": "code",
   "execution_count": 42,
   "id": "f59de984-96a3-4036-95f3-0dc22cac51db",
   "metadata": {},
   "outputs": [],
   "source": [
    "#import library \n",
    "import numpy as np\n",
    "import pandas as pd\n",
    "import seaborn as sns\n",
    "import matplotlib.pyplot as plt\n"
   ]
  },
  {
   "cell_type": "code",
   "execution_count": 43,
   "id": "cebfc7e4-f588-41b4-9a8b-48004018b53e",
   "metadata": {},
   "outputs": [
    {
     "data": {
      "text/html": [
       "<div>\n",
       "<style scoped>\n",
       "    .dataframe tbody tr th:only-of-type {\n",
       "        vertical-align: middle;\n",
       "    }\n",
       "\n",
       "    .dataframe tbody tr th {\n",
       "        vertical-align: top;\n",
       "    }\n",
       "\n",
       "    .dataframe thead th {\n",
       "        text-align: right;\n",
       "    }\n",
       "</style>\n",
       "<table border=\"1\" class=\"dataframe\">\n",
       "  <thead>\n",
       "    <tr style=\"text-align: right;\">\n",
       "      <th></th>\n",
       "      <th>Release_Date</th>\n",
       "      <th>Title</th>\n",
       "      <th>Overview</th>\n",
       "      <th>Popularity</th>\n",
       "      <th>Vote_Count</th>\n",
       "      <th>Vote_Average</th>\n",
       "      <th>Original_Language</th>\n",
       "      <th>Genre</th>\n",
       "      <th>Poster_Url</th>\n",
       "    </tr>\n",
       "  </thead>\n",
       "  <tbody>\n",
       "    <tr>\n",
       "      <th>0</th>\n",
       "      <td>2021-12-15</td>\n",
       "      <td>Spider-Man: No Way Home</td>\n",
       "      <td>Peter Parker is unmasked and no longer able to...</td>\n",
       "      <td>5083.954</td>\n",
       "      <td>8940</td>\n",
       "      <td>8.3</td>\n",
       "      <td>en</td>\n",
       "      <td>Action, Adventure, Science Fiction</td>\n",
       "      <td>https://image.tmdb.org/t/p/original/1g0dhYtq4i...</td>\n",
       "    </tr>\n",
       "    <tr>\n",
       "      <th>1</th>\n",
       "      <td>2022-03-01</td>\n",
       "      <td>The Batman</td>\n",
       "      <td>In his second year of fighting crime, Batman u...</td>\n",
       "      <td>3827.658</td>\n",
       "      <td>1151</td>\n",
       "      <td>8.1</td>\n",
       "      <td>en</td>\n",
       "      <td>Crime, Mystery, Thriller</td>\n",
       "      <td>https://image.tmdb.org/t/p/original/74xTEgt7R3...</td>\n",
       "    </tr>\n",
       "    <tr>\n",
       "      <th>2</th>\n",
       "      <td>2022-02-25</td>\n",
       "      <td>No Exit</td>\n",
       "      <td>Stranded at a rest stop in the mountains durin...</td>\n",
       "      <td>2618.087</td>\n",
       "      <td>122</td>\n",
       "      <td>6.3</td>\n",
       "      <td>en</td>\n",
       "      <td>Thriller</td>\n",
       "      <td>https://image.tmdb.org/t/p/original/vDHsLnOWKl...</td>\n",
       "    </tr>\n",
       "    <tr>\n",
       "      <th>3</th>\n",
       "      <td>2021-11-24</td>\n",
       "      <td>Encanto</td>\n",
       "      <td>The tale of an extraordinary family, the Madri...</td>\n",
       "      <td>2402.201</td>\n",
       "      <td>5076</td>\n",
       "      <td>7.7</td>\n",
       "      <td>en</td>\n",
       "      <td>Animation, Comedy, Family, Fantasy</td>\n",
       "      <td>https://image.tmdb.org/t/p/original/4j0PNHkMr5...</td>\n",
       "    </tr>\n",
       "    <tr>\n",
       "      <th>4</th>\n",
       "      <td>2021-12-22</td>\n",
       "      <td>The King's Man</td>\n",
       "      <td>As a collection of history's worst tyrants and...</td>\n",
       "      <td>1895.511</td>\n",
       "      <td>1793</td>\n",
       "      <td>7.0</td>\n",
       "      <td>en</td>\n",
       "      <td>Action, Adventure, Thriller, War</td>\n",
       "      <td>https://image.tmdb.org/t/p/original/aq4Pwv5Xeu...</td>\n",
       "    </tr>\n",
       "  </tbody>\n",
       "</table>\n",
       "</div>"
      ],
      "text/plain": [
       "  Release_Date                    Title  \\\n",
       "0   2021-12-15  Spider-Man: No Way Home   \n",
       "1   2022-03-01               The Batman   \n",
       "2   2022-02-25                  No Exit   \n",
       "3   2021-11-24                  Encanto   \n",
       "4   2021-12-22           The King's Man   \n",
       "\n",
       "                                            Overview  Popularity  Vote_Count  \\\n",
       "0  Peter Parker is unmasked and no longer able to...    5083.954        8940   \n",
       "1  In his second year of fighting crime, Batman u...    3827.658        1151   \n",
       "2  Stranded at a rest stop in the mountains durin...    2618.087         122   \n",
       "3  The tale of an extraordinary family, the Madri...    2402.201        5076   \n",
       "4  As a collection of history's worst tyrants and...    1895.511        1793   \n",
       "\n",
       "   Vote_Average Original_Language                               Genre  \\\n",
       "0           8.3                en  Action, Adventure, Science Fiction   \n",
       "1           8.1                en            Crime, Mystery, Thriller   \n",
       "2           6.3                en                            Thriller   \n",
       "3           7.7                en  Animation, Comedy, Family, Fantasy   \n",
       "4           7.0                en    Action, Adventure, Thriller, War   \n",
       "\n",
       "                                          Poster_Url  \n",
       "0  https://image.tmdb.org/t/p/original/1g0dhYtq4i...  \n",
       "1  https://image.tmdb.org/t/p/original/74xTEgt7R3...  \n",
       "2  https://image.tmdb.org/t/p/original/vDHsLnOWKl...  \n",
       "3  https://image.tmdb.org/t/p/original/4j0PNHkMr5...  \n",
       "4  https://image.tmdb.org/t/p/original/aq4Pwv5Xeu...  "
      ]
     },
     "execution_count": 43,
     "metadata": {},
     "output_type": "execute_result"
    }
   ],
   "source": [
    "df = pd.read_csv(r'C:\\Users\\Lenovo\\Desktop\\New folder\\mymoviedb.csv', lineterminator='\\n')\n",
    "df.head()"
   ]
  },
  {
   "cell_type": "code",
   "execution_count": 44,
   "id": "d97e1536-04d1-4394-83bc-6b38576a3b65",
   "metadata": {},
   "outputs": [
    {
     "name": "stdout",
     "output_type": "stream",
     "text": [
      "<class 'pandas.core.frame.DataFrame'>\n",
      "RangeIndex: 9827 entries, 0 to 9826\n",
      "Data columns (total 9 columns):\n",
      " #   Column             Non-Null Count  Dtype  \n",
      "---  ------             --------------  -----  \n",
      " 0   Release_Date       9827 non-null   object \n",
      " 1   Title              9827 non-null   object \n",
      " 2   Overview           9827 non-null   object \n",
      " 3   Popularity         9827 non-null   float64\n",
      " 4   Vote_Count         9827 non-null   int64  \n",
      " 5   Vote_Average       9827 non-null   float64\n",
      " 6   Original_Language  9827 non-null   object \n",
      " 7   Genre              9827 non-null   object \n",
      " 8   Poster_Url         9827 non-null   object \n",
      "dtypes: float64(2), int64(1), object(6)\n",
      "memory usage: 691.1+ KB\n"
     ]
    }
   ],
   "source": [
    "# viewing dataset info\n",
    "df.info()"
   ]
  },
  {
   "cell_type": "code",
   "execution_count": 45,
   "id": "3fc7314d-2647-44cb-ba31-e41363f4b52b",
   "metadata": {},
   "outputs": [],
   "source": [
    "#• looks like our dataset has no NaNs! • Overview, Original_Language and Poster-Url\n",
    "# wouldn't be so useful during analysis • Release_Date column needs to be casted into\n",
    "# date time and to extract only the year value"
   ]
  },
  {
   "cell_type": "code",
   "execution_count": 46,
   "id": "bb33320d-8e6e-413a-83f8-b7682c673a18",
   "metadata": {},
   "outputs": [
    {
     "data": {
      "text/plain": [
       "0    Action, Adventure, Science Fiction\n",
       "1              Crime, Mystery, Thriller\n",
       "2                              Thriller\n",
       "3    Animation, Comedy, Family, Fantasy\n",
       "4      Action, Adventure, Thriller, War\n",
       "Name: Genre, dtype: object"
      ]
     },
     "execution_count": 46,
     "metadata": {},
     "output_type": "execute_result"
    }
   ],
   "source": [
    "# exploring genres column\n",
    "df['Genre'].head()"
   ]
  },
  {
   "cell_type": "code",
   "execution_count": 47,
   "id": "89bdb2b3-2a87-42f1-9027-aeb1b192ddf2",
   "metadata": {},
   "outputs": [
    {
     "data": {
      "text/plain": [
       "array(['Action, Adventure, Science Fiction', 'Crime, Mystery, Thriller',\n",
       "       'Thriller', ..., 'Comedy, TV Movie, Romance',\n",
       "       'Science Fiction, Fantasy, Family, Music',\n",
       "       'War, Drama, Science Fiction'], dtype=object)"
      ]
     },
     "execution_count": 47,
     "metadata": {},
     "output_type": "execute_result"
    }
   ],
   "source": [
    "df['Genre'].unique()"
   ]
  },
  {
   "cell_type": "code",
   "execution_count": 48,
   "id": "3cd4d2d7-ebc3-4119-b331-e7ee55ae7fab",
   "metadata": {},
   "outputs": [],
   "source": [
    "#• genres are saperated by commas followed by whitespaces."
   ]
  },
  {
   "cell_type": "code",
   "execution_count": 49,
   "id": "5cbdcea1-9cf9-4fbc-a47d-a732140e449e",
   "metadata": {},
   "outputs": [
    {
     "data": {
      "text/plain": [
       "0"
      ]
     },
     "execution_count": 49,
     "metadata": {},
     "output_type": "execute_result"
    }
   ],
   "source": [
    "# check for duplicated rows\n",
    "df.duplicated().sum()"
   ]
  },
  {
   "cell_type": "code",
   "execution_count": 50,
   "id": "981f3e6c-6969-4f04-9495-c56718402b9b",
   "metadata": {},
   "outputs": [],
   "source": [
    "#• our dataset has no duplicated rows either."
   ]
  },
  {
   "cell_type": "code",
   "execution_count": 51,
   "id": "81e7e894-3808-4f71-b979-75fc9b0ea3dc",
   "metadata": {},
   "outputs": [
    {
     "data": {
      "text/html": [
       "<div>\n",
       "<style scoped>\n",
       "    .dataframe tbody tr th:only-of-type {\n",
       "        vertical-align: middle;\n",
       "    }\n",
       "\n",
       "    .dataframe tbody tr th {\n",
       "        vertical-align: top;\n",
       "    }\n",
       "\n",
       "    .dataframe thead th {\n",
       "        text-align: right;\n",
       "    }\n",
       "</style>\n",
       "<table border=\"1\" class=\"dataframe\">\n",
       "  <thead>\n",
       "    <tr style=\"text-align: right;\">\n",
       "      <th></th>\n",
       "      <th>Popularity</th>\n",
       "      <th>Vote_Count</th>\n",
       "      <th>Vote_Average</th>\n",
       "    </tr>\n",
       "  </thead>\n",
       "  <tbody>\n",
       "    <tr>\n",
       "      <th>count</th>\n",
       "      <td>9827.000000</td>\n",
       "      <td>9827.000000</td>\n",
       "      <td>9827.000000</td>\n",
       "    </tr>\n",
       "    <tr>\n",
       "      <th>mean</th>\n",
       "      <td>40.326088</td>\n",
       "      <td>1392.805536</td>\n",
       "      <td>6.439534</td>\n",
       "    </tr>\n",
       "    <tr>\n",
       "      <th>std</th>\n",
       "      <td>108.873998</td>\n",
       "      <td>2611.206907</td>\n",
       "      <td>1.129759</td>\n",
       "    </tr>\n",
       "    <tr>\n",
       "      <th>min</th>\n",
       "      <td>13.354000</td>\n",
       "      <td>0.000000</td>\n",
       "      <td>0.000000</td>\n",
       "    </tr>\n",
       "    <tr>\n",
       "      <th>25%</th>\n",
       "      <td>16.128500</td>\n",
       "      <td>146.000000</td>\n",
       "      <td>5.900000</td>\n",
       "    </tr>\n",
       "    <tr>\n",
       "      <th>50%</th>\n",
       "      <td>21.199000</td>\n",
       "      <td>444.000000</td>\n",
       "      <td>6.500000</td>\n",
       "    </tr>\n",
       "    <tr>\n",
       "      <th>75%</th>\n",
       "      <td>35.191500</td>\n",
       "      <td>1376.000000</td>\n",
       "      <td>7.100000</td>\n",
       "    </tr>\n",
       "    <tr>\n",
       "      <th>max</th>\n",
       "      <td>5083.954000</td>\n",
       "      <td>31077.000000</td>\n",
       "      <td>10.000000</td>\n",
       "    </tr>\n",
       "  </tbody>\n",
       "</table>\n",
       "</div>"
      ],
      "text/plain": [
       "        Popularity    Vote_Count  Vote_Average\n",
       "count  9827.000000   9827.000000   9827.000000\n",
       "mean     40.326088   1392.805536      6.439534\n",
       "std     108.873998   2611.206907      1.129759\n",
       "min      13.354000      0.000000      0.000000\n",
       "25%      16.128500    146.000000      5.900000\n",
       "50%      21.199000    444.000000      6.500000\n",
       "75%      35.191500   1376.000000      7.100000\n",
       "max    5083.954000  31077.000000     10.000000"
      ]
     },
     "execution_count": 51,
     "metadata": {},
     "output_type": "execute_result"
    }
   ],
   "source": [
    "# exploring summary statistics\n",
    "df.describe()"
   ]
  },
  {
   "cell_type": "markdown",
   "id": "8e719367-7f69-43a9-b7fe-dcf7fafca329",
   "metadata": {},
   "source": [
    "#there is only 3 numaric columns that is Popularity\tVote_Count\tVote_Average\n",
    "\n",
    "• Exploration Summary\n",
    "• we have a dataframe consisting of 9827 rows and 9 columns.\n",
    "• our dataset looks a bit tidy with no NaNs nor duplicated values.\n",
    "• Release_Date column needs to be casted into date time and to extract only the\n",
    "• Overview, Original_Languege and Poster-Url wouldn't be so useful during analys\n",
    "• there is noticable outliers in Popularity column\n",
    "• Vote_Average bettter be categorised for proper analysis.\n",
    "• Genre column has comma saperated values and white spaces that needs to be hand"
   ]
  },
  {
   "cell_type": "markdown",
   "id": "577fce87-c192-4875-888b-4c165e5624cf",
   "metadata": {},
   "source": [
    "# Data Cleaning\n"
   ]
  },
  {
   "cell_type": "markdown",
   "id": "e3b54c58-bd17-4509-8beb-b73f9b6904b0",
   "metadata": {},
   "source": [
    "Casting Release_Date column and extracing year values\n"
   ]
  },
  {
   "cell_type": "markdown",
   "id": "d0e0de7c-07c2-43ab-a205-665f87156b0b",
   "metadata": {},
   "source": [
    "df.head()\n"
   ]
  },
  {
   "cell_type": "code",
   "execution_count": 52,
   "id": "1722107a-ff61-4349-bfcf-04b4f1c8b248",
   "metadata": {},
   "outputs": [
    {
     "name": "stdout",
     "output_type": "stream",
     "text": [
      "0    2021\n",
      "1    2022\n",
      "2    2022\n",
      "3    2021\n",
      "4    2021\n",
      "Name: Release_Date, dtype: int32\n",
      "int32\n"
     ]
    }
   ],
   "source": [
    "# Extract the year from the 'Release_Date' column and store it as an integer\n",
    "df['Release_Date'] = pd.to_datetime(df['Release_Date'], errors='coerce').dt.year\n",
    "\n",
    "# Confirm the changes\n",
    "print(df['Release_Date'].head())\n",
    "print(df['Release_Date'].dtype)\n"
   ]
  },
  {
   "cell_type": "code",
   "execution_count": 53,
   "id": "741e9ed5-bc17-4966-9b0e-e8a0f3c92533",
   "metadata": {},
   "outputs": [
    {
     "name": "stdout",
     "output_type": "stream",
     "text": [
      "<class 'pandas.core.frame.DataFrame'>\n",
      "RangeIndex: 9827 entries, 0 to 9826\n",
      "Data columns (total 9 columns):\n",
      " #   Column             Non-Null Count  Dtype  \n",
      "---  ------             --------------  -----  \n",
      " 0   Release_Date       9827 non-null   int32  \n",
      " 1   Title              9827 non-null   object \n",
      " 2   Overview           9827 non-null   object \n",
      " 3   Popularity         9827 non-null   float64\n",
      " 4   Vote_Count         9827 non-null   int64  \n",
      " 5   Vote_Average       9827 non-null   float64\n",
      " 6   Original_Language  9827 non-null   object \n",
      " 7   Genre              9827 non-null   object \n",
      " 8   Poster_Url         9827 non-null   object \n",
      "dtypes: float64(2), int32(1), int64(1), object(5)\n",
      "memory usage: 652.7+ KB\n"
     ]
    }
   ],
   "source": [
    "df.info()\n"
   ]
  },
  {
   "cell_type": "code",
   "execution_count": 54,
   "id": "f6ed2679-f50a-4f6b-842a-9f2cfdca3272",
   "metadata": {
    "scrolled": true
   },
   "outputs": [
    {
     "data": {
      "text/html": [
       "<div>\n",
       "<style scoped>\n",
       "    .dataframe tbody tr th:only-of-type {\n",
       "        vertical-align: middle;\n",
       "    }\n",
       "\n",
       "    .dataframe tbody tr th {\n",
       "        vertical-align: top;\n",
       "    }\n",
       "\n",
       "    .dataframe thead th {\n",
       "        text-align: right;\n",
       "    }\n",
       "</style>\n",
       "<table border=\"1\" class=\"dataframe\">\n",
       "  <thead>\n",
       "    <tr style=\"text-align: right;\">\n",
       "      <th></th>\n",
       "      <th>Release_Date</th>\n",
       "      <th>Title</th>\n",
       "      <th>Overview</th>\n",
       "      <th>Popularity</th>\n",
       "      <th>Vote_Count</th>\n",
       "      <th>Vote_Average</th>\n",
       "      <th>Original_Language</th>\n",
       "      <th>Genre</th>\n",
       "      <th>Poster_Url</th>\n",
       "    </tr>\n",
       "  </thead>\n",
       "  <tbody>\n",
       "    <tr>\n",
       "      <th>0</th>\n",
       "      <td>2021</td>\n",
       "      <td>Spider-Man: No Way Home</td>\n",
       "      <td>Peter Parker is unmasked and no longer able to...</td>\n",
       "      <td>5083.954</td>\n",
       "      <td>8940</td>\n",
       "      <td>8.3</td>\n",
       "      <td>en</td>\n",
       "      <td>Action, Adventure, Science Fiction</td>\n",
       "      <td>https://image.tmdb.org/t/p/original/1g0dhYtq4i...</td>\n",
       "    </tr>\n",
       "    <tr>\n",
       "      <th>1</th>\n",
       "      <td>2022</td>\n",
       "      <td>The Batman</td>\n",
       "      <td>In his second year of fighting crime, Batman u...</td>\n",
       "      <td>3827.658</td>\n",
       "      <td>1151</td>\n",
       "      <td>8.1</td>\n",
       "      <td>en</td>\n",
       "      <td>Crime, Mystery, Thriller</td>\n",
       "      <td>https://image.tmdb.org/t/p/original/74xTEgt7R3...</td>\n",
       "    </tr>\n",
       "    <tr>\n",
       "      <th>2</th>\n",
       "      <td>2022</td>\n",
       "      <td>No Exit</td>\n",
       "      <td>Stranded at a rest stop in the mountains durin...</td>\n",
       "      <td>2618.087</td>\n",
       "      <td>122</td>\n",
       "      <td>6.3</td>\n",
       "      <td>en</td>\n",
       "      <td>Thriller</td>\n",
       "      <td>https://image.tmdb.org/t/p/original/vDHsLnOWKl...</td>\n",
       "    </tr>\n",
       "    <tr>\n",
       "      <th>3</th>\n",
       "      <td>2021</td>\n",
       "      <td>Encanto</td>\n",
       "      <td>The tale of an extraordinary family, the Madri...</td>\n",
       "      <td>2402.201</td>\n",
       "      <td>5076</td>\n",
       "      <td>7.7</td>\n",
       "      <td>en</td>\n",
       "      <td>Animation, Comedy, Family, Fantasy</td>\n",
       "      <td>https://image.tmdb.org/t/p/original/4j0PNHkMr5...</td>\n",
       "    </tr>\n",
       "    <tr>\n",
       "      <th>4</th>\n",
       "      <td>2021</td>\n",
       "      <td>The King's Man</td>\n",
       "      <td>As a collection of history's worst tyrants and...</td>\n",
       "      <td>1895.511</td>\n",
       "      <td>1793</td>\n",
       "      <td>7.0</td>\n",
       "      <td>en</td>\n",
       "      <td>Action, Adventure, Thriller, War</td>\n",
       "      <td>https://image.tmdb.org/t/p/original/aq4Pwv5Xeu...</td>\n",
       "    </tr>\n",
       "  </tbody>\n",
       "</table>\n",
       "</div>"
      ],
      "text/plain": [
       "   Release_Date                    Title  \\\n",
       "0          2021  Spider-Man: No Way Home   \n",
       "1          2022               The Batman   \n",
       "2          2022                  No Exit   \n",
       "3          2021                  Encanto   \n",
       "4          2021           The King's Man   \n",
       "\n",
       "                                            Overview  Popularity  Vote_Count  \\\n",
       "0  Peter Parker is unmasked and no longer able to...    5083.954        8940   \n",
       "1  In his second year of fighting crime, Batman u...    3827.658        1151   \n",
       "2  Stranded at a rest stop in the mountains durin...    2618.087         122   \n",
       "3  The tale of an extraordinary family, the Madri...    2402.201        5076   \n",
       "4  As a collection of history's worst tyrants and...    1895.511        1793   \n",
       "\n",
       "   Vote_Average Original_Language                               Genre  \\\n",
       "0           8.3                en  Action, Adventure, Science Fiction   \n",
       "1           8.1                en            Crime, Mystery, Thriller   \n",
       "2           6.3                en                            Thriller   \n",
       "3           7.7                en  Animation, Comedy, Family, Fantasy   \n",
       "4           7.0                en    Action, Adventure, Thriller, War   \n",
       "\n",
       "                                          Poster_Url  \n",
       "0  https://image.tmdb.org/t/p/original/1g0dhYtq4i...  \n",
       "1  https://image.tmdb.org/t/p/original/74xTEgt7R3...  \n",
       "2  https://image.tmdb.org/t/p/original/vDHsLnOWKl...  \n",
       "3  https://image.tmdb.org/t/p/original/4j0PNHkMr5...  \n",
       "4  https://image.tmdb.org/t/p/original/aq4Pwv5Xeu...  "
      ]
     },
     "execution_count": 54,
     "metadata": {},
     "output_type": "execute_result"
    }
   ],
   "source": [
    "df.head()\n"
   ]
  },
  {
   "cell_type": "markdown",
   "id": "fc2d3a91-ab6e-400e-8914-50bf132ea20b",
   "metadata": {},
   "source": [
    "#Dropping Overview, Original_Languege and Poster-Url"
   ]
  },
  {
   "cell_type": "code",
   "execution_count": 55,
   "id": "421ce1cd-15cd-46d9-bd84-7ddcac5ad178",
   "metadata": {},
   "outputs": [],
   "source": [
    "cols = ['Overview','Original_Language', 'Poster_Url']"
   ]
  },
  {
   "cell_type": "code",
   "execution_count": 56,
   "id": "b910041a-dd0f-414e-8b5f-0833622e03fa",
   "metadata": {},
   "outputs": [],
   "source": [
    "df.drop(cols, axis=1, inplace = True)"
   ]
  },
  {
   "cell_type": "code",
   "execution_count": 57,
   "id": "4bf624cd-976a-4633-8a6b-c8aeeb8c7eeb",
   "metadata": {},
   "outputs": [
    {
     "data": {
      "text/html": [
       "<div>\n",
       "<style scoped>\n",
       "    .dataframe tbody tr th:only-of-type {\n",
       "        vertical-align: middle;\n",
       "    }\n",
       "\n",
       "    .dataframe tbody tr th {\n",
       "        vertical-align: top;\n",
       "    }\n",
       "\n",
       "    .dataframe thead th {\n",
       "        text-align: right;\n",
       "    }\n",
       "</style>\n",
       "<table border=\"1\" class=\"dataframe\">\n",
       "  <thead>\n",
       "    <tr style=\"text-align: right;\">\n",
       "      <th></th>\n",
       "      <th>Release_Date</th>\n",
       "      <th>Title</th>\n",
       "      <th>Popularity</th>\n",
       "      <th>Vote_Count</th>\n",
       "      <th>Vote_Average</th>\n",
       "      <th>Genre</th>\n",
       "    </tr>\n",
       "  </thead>\n",
       "  <tbody>\n",
       "    <tr>\n",
       "      <th>0</th>\n",
       "      <td>2021</td>\n",
       "      <td>Spider-Man: No Way Home</td>\n",
       "      <td>5083.954</td>\n",
       "      <td>8940</td>\n",
       "      <td>8.3</td>\n",
       "      <td>Action, Adventure, Science Fiction</td>\n",
       "    </tr>\n",
       "    <tr>\n",
       "      <th>1</th>\n",
       "      <td>2022</td>\n",
       "      <td>The Batman</td>\n",
       "      <td>3827.658</td>\n",
       "      <td>1151</td>\n",
       "      <td>8.1</td>\n",
       "      <td>Crime, Mystery, Thriller</td>\n",
       "    </tr>\n",
       "    <tr>\n",
       "      <th>2</th>\n",
       "      <td>2022</td>\n",
       "      <td>No Exit</td>\n",
       "      <td>2618.087</td>\n",
       "      <td>122</td>\n",
       "      <td>6.3</td>\n",
       "      <td>Thriller</td>\n",
       "    </tr>\n",
       "    <tr>\n",
       "      <th>3</th>\n",
       "      <td>2021</td>\n",
       "      <td>Encanto</td>\n",
       "      <td>2402.201</td>\n",
       "      <td>5076</td>\n",
       "      <td>7.7</td>\n",
       "      <td>Animation, Comedy, Family, Fantasy</td>\n",
       "    </tr>\n",
       "    <tr>\n",
       "      <th>4</th>\n",
       "      <td>2021</td>\n",
       "      <td>The King's Man</td>\n",
       "      <td>1895.511</td>\n",
       "      <td>1793</td>\n",
       "      <td>7.0</td>\n",
       "      <td>Action, Adventure, Thriller, War</td>\n",
       "    </tr>\n",
       "    <tr>\n",
       "      <th>5</th>\n",
       "      <td>2022</td>\n",
       "      <td>The Commando</td>\n",
       "      <td>1750.484</td>\n",
       "      <td>33</td>\n",
       "      <td>6.6</td>\n",
       "      <td>Action, Crime, Thriller</td>\n",
       "    </tr>\n",
       "    <tr>\n",
       "      <th>6</th>\n",
       "      <td>2022</td>\n",
       "      <td>Scream</td>\n",
       "      <td>1675.161</td>\n",
       "      <td>821</td>\n",
       "      <td>6.8</td>\n",
       "      <td>Horror, Mystery, Thriller</td>\n",
       "    </tr>\n",
       "    <tr>\n",
       "      <th>7</th>\n",
       "      <td>2022</td>\n",
       "      <td>Kimi</td>\n",
       "      <td>1601.782</td>\n",
       "      <td>206</td>\n",
       "      <td>6.3</td>\n",
       "      <td>Thriller</td>\n",
       "    </tr>\n",
       "    <tr>\n",
       "      <th>8</th>\n",
       "      <td>2022</td>\n",
       "      <td>Fistful of Vengeance</td>\n",
       "      <td>1594.013</td>\n",
       "      <td>114</td>\n",
       "      <td>5.3</td>\n",
       "      <td>Action, Crime, Fantasy</td>\n",
       "    </tr>\n",
       "    <tr>\n",
       "      <th>9</th>\n",
       "      <td>2021</td>\n",
       "      <td>Eternals</td>\n",
       "      <td>1537.406</td>\n",
       "      <td>4726</td>\n",
       "      <td>7.2</td>\n",
       "      <td>Science Fiction</td>\n",
       "    </tr>\n",
       "  </tbody>\n",
       "</table>\n",
       "</div>"
      ],
      "text/plain": [
       "   Release_Date                    Title  Popularity  Vote_Count  \\\n",
       "0          2021  Spider-Man: No Way Home    5083.954        8940   \n",
       "1          2022               The Batman    3827.658        1151   \n",
       "2          2022                  No Exit    2618.087         122   \n",
       "3          2021                  Encanto    2402.201        5076   \n",
       "4          2021           The King's Man    1895.511        1793   \n",
       "5          2022             The Commando    1750.484          33   \n",
       "6          2022                   Scream    1675.161         821   \n",
       "7          2022                     Kimi    1601.782         206   \n",
       "8          2022     Fistful of Vengeance    1594.013         114   \n",
       "9          2021                 Eternals    1537.406        4726   \n",
       "\n",
       "   Vote_Average                               Genre  \n",
       "0           8.3  Action, Adventure, Science Fiction  \n",
       "1           8.1            Crime, Mystery, Thriller  \n",
       "2           6.3                            Thriller  \n",
       "3           7.7  Animation, Comedy, Family, Fantasy  \n",
       "4           7.0    Action, Adventure, Thriller, War  \n",
       "5           6.6             Action, Crime, Thriller  \n",
       "6           6.8           Horror, Mystery, Thriller  \n",
       "7           6.3                            Thriller  \n",
       "8           5.3              Action, Crime, Fantasy  \n",
       "9           7.2                     Science Fiction  "
      ]
     },
     "execution_count": 57,
     "metadata": {},
     "output_type": "execute_result"
    }
   ],
   "source": [
    "df.head(10)"
   ]
  },
  {
   "cell_type": "markdown",
   "id": "90ca8a2e-4db6-4724-9b80-18ddbe2e0e41",
   "metadata": {},
   "source": [
    "categorizing Vote_Average column\n",
    "\n",
    "We would cut the Vote_Average values and make 4 categories: popular average\n",
    "below_avg not_popular to describe it more using catigorize_col() function\n",
    "provided above."
   ]
  },
  {
   "cell_type": "code",
   "execution_count": 58,
   "id": "789b85f1-262f-4c11-a7d4-f3fb025efa24",
   "metadata": {},
   "outputs": [],
   "source": [
    "# Define the categorize function\n",
    "def categorize_col(df, col, labels):\n",
    "    # Setting the edges to cut the column accordingly\n",
    "    edges = [\n",
    "        df[col].min(),\n",
    "        df[col].quantile(0.25),\n",
    "        df[col].quantile(0.5),\n",
    "        df[col].quantile(0.75),\n",
    "        df[col].max(),\n",
    "    ]\n",
    "    \n",
    "    # Ensuring edges are unique to avoid errors with pd.cut\n",
    "    edges = list(sorted(set(edges)))\n",
    "# Apply pd.cut to categorize the column\n",
    "    df[col + '_categorized'] = pd.cut(df[col], bins=edges, labels=labels, duplicates='drop', include_lowest=True)\n",
    "    \n",
    "    return df"
   ]
  },
  {
   "cell_type": "code",
   "execution_count": 59,
   "id": "4f91dd34-6c2b-4f8b-a6ff-c64158c0847a",
   "metadata": {},
   "outputs": [],
   "source": [
    "# Apply the categorize function\n",
    "labels = ['not_popular', 'below_avg', 'average', 'popular']\n",
    "df = categorize_col(df, 'Vote_Average', labels)"
   ]
  },
  {
   "cell_type": "code",
   "execution_count": 60,
   "id": "67136c1b-43d1-46b2-b641-a983cda8c83d",
   "metadata": {},
   "outputs": [
    {
     "name": "stdout",
     "output_type": "stream",
     "text": [
      "Vote_Average_categorized\n",
      "not_popular    2567\n",
      "popular        2450\n",
      "average        2412\n",
      "below_avg      2398\n",
      "Name: count, dtype: int64\n"
     ]
    }
   ],
   "source": [
    "# Count occurrences in each category\n",
    "category_counts = df['Vote_Average_categorized'].value_counts()\n",
    "\n",
    "# Display the results\n",
    "print(category_counts)"
   ]
  },
  {
   "cell_type": "code",
   "execution_count": 61,
   "id": "88dc0c25-ee33-4250-b33e-2aa95e177165",
   "metadata": {},
   "outputs": [
    {
     "data": {
      "text/html": [
       "<div>\n",
       "<style scoped>\n",
       "    .dataframe tbody tr th:only-of-type {\n",
       "        vertical-align: middle;\n",
       "    }\n",
       "\n",
       "    .dataframe tbody tr th {\n",
       "        vertical-align: top;\n",
       "    }\n",
       "\n",
       "    .dataframe thead th {\n",
       "        text-align: right;\n",
       "    }\n",
       "</style>\n",
       "<table border=\"1\" class=\"dataframe\">\n",
       "  <thead>\n",
       "    <tr style=\"text-align: right;\">\n",
       "      <th></th>\n",
       "      <th>Release_Date</th>\n",
       "      <th>Title</th>\n",
       "      <th>Popularity</th>\n",
       "      <th>Vote_Count</th>\n",
       "      <th>Vote_Average</th>\n",
       "      <th>Genre</th>\n",
       "      <th>Vote_Average_categorized</th>\n",
       "    </tr>\n",
       "  </thead>\n",
       "  <tbody>\n",
       "    <tr>\n",
       "      <th>0</th>\n",
       "      <td>2021</td>\n",
       "      <td>Spider-Man: No Way Home</td>\n",
       "      <td>5083.954</td>\n",
       "      <td>8940</td>\n",
       "      <td>8.3</td>\n",
       "      <td>Action, Adventure, Science Fiction</td>\n",
       "      <td>popular</td>\n",
       "    </tr>\n",
       "    <tr>\n",
       "      <th>1</th>\n",
       "      <td>2022</td>\n",
       "      <td>The Batman</td>\n",
       "      <td>3827.658</td>\n",
       "      <td>1151</td>\n",
       "      <td>8.1</td>\n",
       "      <td>Crime, Mystery, Thriller</td>\n",
       "      <td>popular</td>\n",
       "    </tr>\n",
       "    <tr>\n",
       "      <th>2</th>\n",
       "      <td>2022</td>\n",
       "      <td>No Exit</td>\n",
       "      <td>2618.087</td>\n",
       "      <td>122</td>\n",
       "      <td>6.3</td>\n",
       "      <td>Thriller</td>\n",
       "      <td>below_avg</td>\n",
       "    </tr>\n",
       "    <tr>\n",
       "      <th>3</th>\n",
       "      <td>2021</td>\n",
       "      <td>Encanto</td>\n",
       "      <td>2402.201</td>\n",
       "      <td>5076</td>\n",
       "      <td>7.7</td>\n",
       "      <td>Animation, Comedy, Family, Fantasy</td>\n",
       "      <td>popular</td>\n",
       "    </tr>\n",
       "    <tr>\n",
       "      <th>4</th>\n",
       "      <td>2021</td>\n",
       "      <td>The King's Man</td>\n",
       "      <td>1895.511</td>\n",
       "      <td>1793</td>\n",
       "      <td>7.0</td>\n",
       "      <td>Action, Adventure, Thriller, War</td>\n",
       "      <td>average</td>\n",
       "    </tr>\n",
       "  </tbody>\n",
       "</table>\n",
       "</div>"
      ],
      "text/plain": [
       "   Release_Date                    Title  Popularity  Vote_Count  \\\n",
       "0          2021  Spider-Man: No Way Home    5083.954        8940   \n",
       "1          2022               The Batman    3827.658        1151   \n",
       "2          2022                  No Exit    2618.087         122   \n",
       "3          2021                  Encanto    2402.201        5076   \n",
       "4          2021           The King's Man    1895.511        1793   \n",
       "\n",
       "   Vote_Average                               Genre Vote_Average_categorized  \n",
       "0           8.3  Action, Adventure, Science Fiction                  popular  \n",
       "1           8.1            Crime, Mystery, Thriller                  popular  \n",
       "2           6.3                            Thriller                below_avg  \n",
       "3           7.7  Animation, Comedy, Family, Fantasy                  popular  \n",
       "4           7.0    Action, Adventure, Thriller, War                  average  "
      ]
     },
     "execution_count": 61,
     "metadata": {},
     "output_type": "execute_result"
    }
   ],
   "source": [
    "df.head()\n"
   ]
  },
  {
   "cell_type": "code",
   "execution_count": 62,
   "id": "862ab04b-f1cf-4d33-b1dd-df856460a2c5",
   "metadata": {},
   "outputs": [
    {
     "data": {
      "text/plain": [
       "Release_Date                0\n",
       "Title                       0\n",
       "Popularity                  0\n",
       "Vote_Count                  0\n",
       "Vote_Average                0\n",
       "Genre                       0\n",
       "Vote_Average_categorized    0\n",
       "dtype: int64"
      ]
     },
     "execution_count": 62,
     "metadata": {},
     "output_type": "execute_result"
    }
   ],
   "source": [
    "# dropping NaNs\n",
    "df.dropna(inplace = True)\n",
    "# confirming\n",
    "df.isna().sum()"
   ]
  },
  {
   "cell_type": "code",
   "execution_count": 63,
   "id": "7ff7946d-9aba-44b2-9035-695985aa0b6e",
   "metadata": {},
   "outputs": [
    {
     "data": {
      "text/html": [
       "<div>\n",
       "<style scoped>\n",
       "    .dataframe tbody tr th:only-of-type {\n",
       "        vertical-align: middle;\n",
       "    }\n",
       "\n",
       "    .dataframe tbody tr th {\n",
       "        vertical-align: top;\n",
       "    }\n",
       "\n",
       "    .dataframe thead th {\n",
       "        text-align: right;\n",
       "    }\n",
       "</style>\n",
       "<table border=\"1\" class=\"dataframe\">\n",
       "  <thead>\n",
       "    <tr style=\"text-align: right;\">\n",
       "      <th></th>\n",
       "      <th>Release_Date</th>\n",
       "      <th>Title</th>\n",
       "      <th>Popularity</th>\n",
       "      <th>Vote_Count</th>\n",
       "      <th>Vote_Average</th>\n",
       "      <th>Genre</th>\n",
       "      <th>Vote_Average_categorized</th>\n",
       "    </tr>\n",
       "  </thead>\n",
       "  <tbody>\n",
       "    <tr>\n",
       "      <th>0</th>\n",
       "      <td>2021</td>\n",
       "      <td>Spider-Man: No Way Home</td>\n",
       "      <td>5083.954</td>\n",
       "      <td>8940</td>\n",
       "      <td>8.3</td>\n",
       "      <td>Action, Adventure, Science Fiction</td>\n",
       "      <td>popular</td>\n",
       "    </tr>\n",
       "    <tr>\n",
       "      <th>1</th>\n",
       "      <td>2022</td>\n",
       "      <td>The Batman</td>\n",
       "      <td>3827.658</td>\n",
       "      <td>1151</td>\n",
       "      <td>8.1</td>\n",
       "      <td>Crime, Mystery, Thriller</td>\n",
       "      <td>popular</td>\n",
       "    </tr>\n",
       "    <tr>\n",
       "      <th>2</th>\n",
       "      <td>2022</td>\n",
       "      <td>No Exit</td>\n",
       "      <td>2618.087</td>\n",
       "      <td>122</td>\n",
       "      <td>6.3</td>\n",
       "      <td>Thriller</td>\n",
       "      <td>below_avg</td>\n",
       "    </tr>\n",
       "    <tr>\n",
       "      <th>3</th>\n",
       "      <td>2021</td>\n",
       "      <td>Encanto</td>\n",
       "      <td>2402.201</td>\n",
       "      <td>5076</td>\n",
       "      <td>7.7</td>\n",
       "      <td>Animation, Comedy, Family, Fantasy</td>\n",
       "      <td>popular</td>\n",
       "    </tr>\n",
       "    <tr>\n",
       "      <th>4</th>\n",
       "      <td>2021</td>\n",
       "      <td>The King's Man</td>\n",
       "      <td>1895.511</td>\n",
       "      <td>1793</td>\n",
       "      <td>7.0</td>\n",
       "      <td>Action, Adventure, Thriller, War</td>\n",
       "      <td>average</td>\n",
       "    </tr>\n",
       "  </tbody>\n",
       "</table>\n",
       "</div>"
      ],
      "text/plain": [
       "   Release_Date                    Title  Popularity  Vote_Count  \\\n",
       "0          2021  Spider-Man: No Way Home    5083.954        8940   \n",
       "1          2022               The Batman    3827.658        1151   \n",
       "2          2022                  No Exit    2618.087         122   \n",
       "3          2021                  Encanto    2402.201        5076   \n",
       "4          2021           The King's Man    1895.511        1793   \n",
       "\n",
       "   Vote_Average                               Genre Vote_Average_categorized  \n",
       "0           8.3  Action, Adventure, Science Fiction                  popular  \n",
       "1           8.1            Crime, Mystery, Thriller                  popular  \n",
       "2           6.3                            Thriller                below_avg  \n",
       "3           7.7  Animation, Comedy, Family, Fantasy                  popular  \n",
       "4           7.0    Action, Adventure, Thriller, War                  average  "
      ]
     },
     "execution_count": 63,
     "metadata": {},
     "output_type": "execute_result"
    }
   ],
   "source": [
    "df.head()\n"
   ]
  },
  {
   "cell_type": "markdown",
   "id": "eea07a07-4e7c-499a-9b17-ea6181d22804",
   "metadata": {},
   "source": [
    "we'd split genres into a list and then\n",
    "explode our dataframe to have only one\n",
    "genre per row for ezch movie"
   ]
  },
  {
   "cell_type": "code",
   "execution_count": 64,
   "id": "0dca1f1e-0803-43ae-892e-19294bd170a8",
   "metadata": {},
   "outputs": [
    {
     "data": {
      "text/html": [
       "<div>\n",
       "<style scoped>\n",
       "    .dataframe tbody tr th:only-of-type {\n",
       "        vertical-align: middle;\n",
       "    }\n",
       "\n",
       "    .dataframe tbody tr th {\n",
       "        vertical-align: top;\n",
       "    }\n",
       "\n",
       "    .dataframe thead th {\n",
       "        text-align: right;\n",
       "    }\n",
       "</style>\n",
       "<table border=\"1\" class=\"dataframe\">\n",
       "  <thead>\n",
       "    <tr style=\"text-align: right;\">\n",
       "      <th></th>\n",
       "      <th>Release_Date</th>\n",
       "      <th>Title</th>\n",
       "      <th>Popularity</th>\n",
       "      <th>Vote_Count</th>\n",
       "      <th>Vote_Average</th>\n",
       "      <th>Genre</th>\n",
       "      <th>Vote_Average_categorized</th>\n",
       "    </tr>\n",
       "  </thead>\n",
       "  <tbody>\n",
       "    <tr>\n",
       "      <th>0</th>\n",
       "      <td>2021</td>\n",
       "      <td>Spider-Man: No Way Home</td>\n",
       "      <td>5083.954</td>\n",
       "      <td>8940</td>\n",
       "      <td>8.3</td>\n",
       "      <td>Action</td>\n",
       "      <td>popular</td>\n",
       "    </tr>\n",
       "    <tr>\n",
       "      <th>1</th>\n",
       "      <td>2021</td>\n",
       "      <td>Spider-Man: No Way Home</td>\n",
       "      <td>5083.954</td>\n",
       "      <td>8940</td>\n",
       "      <td>8.3</td>\n",
       "      <td>Adventure</td>\n",
       "      <td>popular</td>\n",
       "    </tr>\n",
       "    <tr>\n",
       "      <th>2</th>\n",
       "      <td>2021</td>\n",
       "      <td>Spider-Man: No Way Home</td>\n",
       "      <td>5083.954</td>\n",
       "      <td>8940</td>\n",
       "      <td>8.3</td>\n",
       "      <td>Science Fiction</td>\n",
       "      <td>popular</td>\n",
       "    </tr>\n",
       "    <tr>\n",
       "      <th>3</th>\n",
       "      <td>2022</td>\n",
       "      <td>The Batman</td>\n",
       "      <td>3827.658</td>\n",
       "      <td>1151</td>\n",
       "      <td>8.1</td>\n",
       "      <td>Crime</td>\n",
       "      <td>popular</td>\n",
       "    </tr>\n",
       "    <tr>\n",
       "      <th>4</th>\n",
       "      <td>2022</td>\n",
       "      <td>The Batman</td>\n",
       "      <td>3827.658</td>\n",
       "      <td>1151</td>\n",
       "      <td>8.1</td>\n",
       "      <td>Mystery</td>\n",
       "      <td>popular</td>\n",
       "    </tr>\n",
       "  </tbody>\n",
       "</table>\n",
       "</div>"
      ],
      "text/plain": [
       "   Release_Date                    Title  Popularity  Vote_Count  \\\n",
       "0          2021  Spider-Man: No Way Home    5083.954        8940   \n",
       "1          2021  Spider-Man: No Way Home    5083.954        8940   \n",
       "2          2021  Spider-Man: No Way Home    5083.954        8940   \n",
       "3          2022               The Batman    3827.658        1151   \n",
       "4          2022               The Batman    3827.658        1151   \n",
       "\n",
       "   Vote_Average            Genre Vote_Average_categorized  \n",
       "0           8.3           Action                  popular  \n",
       "1           8.3        Adventure                  popular  \n",
       "2           8.3  Science Fiction                  popular  \n",
       "3           8.1            Crime                  popular  \n",
       "4           8.1          Mystery                  popular  "
      ]
     },
     "execution_count": 64,
     "metadata": {},
     "output_type": "execute_result"
    }
   ],
   "source": [
    "# split the strings into lists\n",
    "df['Genre'] = df['Genre'].str.split(', ')\n",
    "# explode the lists\n",
    "df = df.explode('Genre').reset_index(drop=True)\n",
    "df.head()\n"
   ]
  },
  {
   "cell_type": "code",
   "execution_count": 65,
   "id": "757fbd7e-f8a7-4ee7-a14d-d7894c9d47f4",
   "metadata": {},
   "outputs": [
    {
     "data": {
      "text/plain": [
       "CategoricalDtype(categories=['Action', 'Adventure', 'Animation', 'Comedy', 'Crime',\n",
       "                  'Documentary', 'Drama', 'Family', 'Fantasy', 'History',\n",
       "                  'Horror', 'Music', 'Mystery', 'Romance', 'Science Fiction',\n",
       "                  'TV Movie', 'Thriller', 'War', 'Western'],\n",
       ", ordered=False, categories_dtype=object)"
      ]
     },
     "execution_count": 65,
     "metadata": {},
     "output_type": "execute_result"
    }
   ],
   "source": [
    "# casting column into category\n",
    "df['Genre'] = df['Genre'].astype('category')\n",
    "# confirming changes\n",
    "df['Genre'].dtypes\n"
   ]
  },
  {
   "cell_type": "code",
   "execution_count": 66,
   "id": "b7d7978f-1587-4e9f-809f-10f3f3e26767",
   "metadata": {},
   "outputs": [
    {
     "name": "stdout",
     "output_type": "stream",
     "text": [
      "<class 'pandas.core.frame.DataFrame'>\n",
      "RangeIndex: 25793 entries, 0 to 25792\n",
      "Data columns (total 7 columns):\n",
      " #   Column                    Non-Null Count  Dtype   \n",
      "---  ------                    --------------  -----   \n",
      " 0   Release_Date              25793 non-null  int32   \n",
      " 1   Title                     25793 non-null  object  \n",
      " 2   Popularity                25793 non-null  float64 \n",
      " 3   Vote_Count                25793 non-null  int64   \n",
      " 4   Vote_Average              25793 non-null  float64 \n",
      " 5   Genre                     25793 non-null  category\n",
      " 6   Vote_Average_categorized  25793 non-null  category\n",
      "dtypes: category(2), float64(2), int32(1), int64(1), object(1)\n",
      "memory usage: 958.2+ KB\n"
     ]
    }
   ],
   "source": [
    "df.info()\n"
   ]
  },
  {
   "cell_type": "code",
   "execution_count": 67,
   "id": "b6f77ecd-ada6-4a98-b5de-d1dde91f7fb5",
   "metadata": {},
   "outputs": [
    {
     "data": {
      "text/plain": [
       "Release_Date                 102\n",
       "Title                       9513\n",
       "Popularity                  8160\n",
       "Vote_Count                  3266\n",
       "Vote_Average                  74\n",
       "Genre                         19\n",
       "Vote_Average_categorized       4\n",
       "dtype: int64"
      ]
     },
     "execution_count": 67,
     "metadata": {},
     "output_type": "execute_result"
    }
   ],
   "source": [
    "df.nunique()\n"
   ]
  },
  {
   "cell_type": "markdown",
   "id": "1c941efa-efd6-4941-a6c6-a9d577a14ddf",
   "metadata": {},
   "source": [
    "Now that our dataset is clean and tidy, we are left with a total of 6 columns and 25551\n",
    "rows to dig into during our analysis"
   ]
  },
  {
   "cell_type": "markdown",
   "id": "536362f6-9e04-4ad1-ad64-abfd98bb48d9",
   "metadata": {},
   "source": [
    "#Data Visualization\n",
    "\n",
    "here, we'd use Matplotlib and seaborn for making some informative visuals to gain\n",
    "insights abut our data."
   ]
  },
  {
   "cell_type": "code",
   "execution_count": 68,
   "id": "b26e88c8-7251-4f1f-b85b-7dcb0fdbbd6c",
   "metadata": {},
   "outputs": [],
   "source": [
    "# setting up seaborn configurations\n",
    "sns.set_style('whitegrid')\n"
   ]
  },
  {
   "cell_type": "markdown",
   "id": "b711cfec-8ffe-44bf-b87b-53b24bb85a61",
   "metadata": {},
   "source": [
    "Q1: What is the most frequent genre in\n",
    "the dataset?"
   ]
  },
  {
   "cell_type": "code",
   "execution_count": 69,
   "id": "158ecd54-f465-458a-be58-da783660e705",
   "metadata": {},
   "outputs": [
    {
     "data": {
      "text/plain": [
       "count     25793\n",
       "unique       19\n",
       "top       Drama\n",
       "freq       3744\n",
       "Name: Genre, dtype: object"
      ]
     },
     "execution_count": 69,
     "metadata": {},
     "output_type": "execute_result"
    }
   ],
   "source": [
    "# showing stats. on genre column\n",
    "df['Genre'].describe()"
   ]
  },
  {
   "cell_type": "code",
   "execution_count": 70,
   "id": "3c22d1c4-7687-4f45-aa5e-834669d32bc6",
   "metadata": {},
   "outputs": [
    {
     "data": {
      "image/png": "[encoded data removed]",
      "text/plain": [
       "<Figure size 511.111x500 with 1 Axes>"
      ]
     },
     "metadata": {},
     "output_type": "display_data"
    }
   ],
   "source": [
    "# visualizing genre column\n",
    "sns.catplot(y = 'Genre', data = df, kind = 'count',\n",
    " order = df['Genre'].value_counts().index,\n",
    " color = '#4287f5')\n",
    "plt.title('genre column distribution')\n",
    "plt.show()"
   ]
  },
  {
   "cell_type": "markdown",
   "id": "2d3cc476-4b9d-47ec-9a54-c556a5c7585d",
   "metadata": {},
   "source": [
    "we can notice from the above visual that Drama genre is the most frequent genre\n",
    "in our dataset and has appeared more than 14% of the times among 19 other\n",
    "genres."
   ]
  },
  {
   "cell_type": "markdown",
   "id": "43326020-5196-4ada-92b2-0d6f5ad66faa",
   "metadata": {},
   "source": [
    "##Q2: What genres has highest votes ?\n"
   ]
  },
  {
   "cell_type": "code",
   "execution_count": 75,
   "id": "3513def0-19f8-4a47-9273-08fdebe098ec",
   "metadata": {},
   "outputs": [
    {
     "name": "stderr",
     "output_type": "stream",
     "text": [
      "C:\\Users\\Lenovo\\AppData\\Local\\Temp\\ipykernel_12244\\2277521750.py:2: FutureWarning: \n",
      "\n",
      "Passing `palette` without assigning `hue` is deprecated and will be removed in v0.14.0. Assign the `y` variable to `hue` and set `legend=False` for the same effect.\n",
      "\n",
      "  sns.catplot(\n"
     ]
    },
    {
     "data": {
      "image/png": "[encoded data removed]",
      "text/plain": [
       "<Figure size 500x500 with 1 Axes>"
      ]
     },
     "metadata": {},
     "output_type": "display_data"
    }
   ],
   "source": [
    "# Visualizing the Vote_Average column\n",
    "sns.catplot(\n",
    "    y='Vote_Average_categorized',data=df, kind='count',\n",
    "    order=df['Vote_Average_categorized'].value_counts().index,  # Ensure ordering matches the count\n",
    "    palette='Blues_d')\n",
    "plt.title('Votes Distribution', fontsize=14, fontweight='bold')\n",
    "plt.show()\n"
   ]
  },
  {
   "cell_type": "markdown",
   "id": "d52ce619-1e03-41a6-a624-1b3c744a4142",
   "metadata": {},
   "source": [
    "Q3: What movie got the highest popularity ? what's its\n",
    "genre ?"
   ]
  },
  {
   "cell_type": "code",
   "execution_count": 76,
   "id": "ffe3afd2-0f60-4284-9bb2-633e0784094b",
   "metadata": {},
   "outputs": [
    {
     "data": {
      "text/html": [
       "<div>\n",
       "<style scoped>\n",
       "    .dataframe tbody tr th:only-of-type {\n",
       "        vertical-align: middle;\n",
       "    }\n",
       "\n",
       "    .dataframe tbody tr th {\n",
       "        vertical-align: top;\n",
       "    }\n",
       "\n",
       "    .dataframe thead th {\n",
       "        text-align: right;\n",
       "    }\n",
       "</style>\n",
       "<table border=\"1\" class=\"dataframe\">\n",
       "  <thead>\n",
       "    <tr style=\"text-align: right;\">\n",
       "      <th></th>\n",
       "      <th>Release_Date</th>\n",
       "      <th>Title</th>\n",
       "      <th>Popularity</th>\n",
       "      <th>Vote_Count</th>\n",
       "      <th>Vote_Average</th>\n",
       "      <th>Genre</th>\n",
       "      <th>Vote_Average_categorized</th>\n",
       "    </tr>\n",
       "  </thead>\n",
       "  <tbody>\n",
       "    <tr>\n",
       "      <th>0</th>\n",
       "      <td>2021</td>\n",
       "      <td>Spider-Man: No Way Home</td>\n",
       "      <td>5083.954</td>\n",
       "      <td>8940</td>\n",
       "      <td>8.3</td>\n",
       "      <td>Action</td>\n",
       "      <td>popular</td>\n",
       "    </tr>\n",
       "    <tr>\n",
       "      <th>1</th>\n",
       "      <td>2021</td>\n",
       "      <td>Spider-Man: No Way Home</td>\n",
       "      <td>5083.954</td>\n",
       "      <td>8940</td>\n",
       "      <td>8.3</td>\n",
       "      <td>Adventure</td>\n",
       "      <td>popular</td>\n",
       "    </tr>\n",
       "    <tr>\n",
       "      <th>2</th>\n",
       "      <td>2021</td>\n",
       "      <td>Spider-Man: No Way Home</td>\n",
       "      <td>5083.954</td>\n",
       "      <td>8940</td>\n",
       "      <td>8.3</td>\n",
       "      <td>Science Fiction</td>\n",
       "      <td>popular</td>\n",
       "    </tr>\n",
       "  </tbody>\n",
       "</table>\n",
       "</div>"
      ],
      "text/plain": [
       "   Release_Date                    Title  Popularity  Vote_Count  \\\n",
       "0          2021  Spider-Man: No Way Home    5083.954        8940   \n",
       "1          2021  Spider-Man: No Way Home    5083.954        8940   \n",
       "2          2021  Spider-Man: No Way Home    5083.954        8940   \n",
       "\n",
       "   Vote_Average            Genre Vote_Average_categorized  \n",
       "0           8.3           Action                  popular  \n",
       "1           8.3        Adventure                  popular  \n",
       "2           8.3  Science Fiction                  popular  "
      ]
     },
     "execution_count": 76,
     "metadata": {},
     "output_type": "execute_result"
    }
   ],
   "source": [
    "# checking max popularity in dataset\n",
    "df[df['Popularity'] == df['Popularity'].max()]"
   ]
  },
  {
   "cell_type": "markdown",
   "id": "d049eb2d-4e03-4fe8-a2a7-e84b6f6c0919",
   "metadata": {},
   "source": [
    "Q4: What movie got the lowest popularity? what's\n",
    "its genre?"
   ]
  },
  {
   "cell_type": "code",
   "execution_count": 77,
   "id": "57d5982c-59b2-4197-856a-626a89794ba6",
   "metadata": {},
   "outputs": [
    {
     "data": {
      "text/html": [
       "<div>\n",
       "<style scoped>\n",
       "    .dataframe tbody tr th:only-of-type {\n",
       "        vertical-align: middle;\n",
       "    }\n",
       "\n",
       "    .dataframe tbody tr th {\n",
       "        vertical-align: top;\n",
       "    }\n",
       "\n",
       "    .dataframe thead th {\n",
       "        text-align: right;\n",
       "    }\n",
       "</style>\n",
       "<table border=\"1\" class=\"dataframe\">\n",
       "  <thead>\n",
       "    <tr style=\"text-align: right;\">\n",
       "      <th></th>\n",
       "      <th>Release_Date</th>\n",
       "      <th>Title</th>\n",
       "      <th>Popularity</th>\n",
       "      <th>Vote_Count</th>\n",
       "      <th>Vote_Average</th>\n",
       "      <th>Genre</th>\n",
       "      <th>Vote_Average_categorized</th>\n",
       "    </tr>\n",
       "  </thead>\n",
       "  <tbody>\n",
       "    <tr>\n",
       "      <th>25787</th>\n",
       "      <td>2021</td>\n",
       "      <td>The United States vs. Billie Holiday</td>\n",
       "      <td>13.354</td>\n",
       "      <td>152</td>\n",
       "      <td>6.7</td>\n",
       "      <td>Music</td>\n",
       "      <td>average</td>\n",
       "    </tr>\n",
       "    <tr>\n",
       "      <th>25788</th>\n",
       "      <td>2021</td>\n",
       "      <td>The United States vs. Billie Holiday</td>\n",
       "      <td>13.354</td>\n",
       "      <td>152</td>\n",
       "      <td>6.7</td>\n",
       "      <td>Drama</td>\n",
       "      <td>average</td>\n",
       "    </tr>\n",
       "    <tr>\n",
       "      <th>25789</th>\n",
       "      <td>2021</td>\n",
       "      <td>The United States vs. Billie Holiday</td>\n",
       "      <td>13.354</td>\n",
       "      <td>152</td>\n",
       "      <td>6.7</td>\n",
       "      <td>History</td>\n",
       "      <td>average</td>\n",
       "    </tr>\n",
       "    <tr>\n",
       "      <th>25790</th>\n",
       "      <td>1984</td>\n",
       "      <td>Threads</td>\n",
       "      <td>13.354</td>\n",
       "      <td>186</td>\n",
       "      <td>7.8</td>\n",
       "      <td>War</td>\n",
       "      <td>popular</td>\n",
       "    </tr>\n",
       "    <tr>\n",
       "      <th>25791</th>\n",
       "      <td>1984</td>\n",
       "      <td>Threads</td>\n",
       "      <td>13.354</td>\n",
       "      <td>186</td>\n",
       "      <td>7.8</td>\n",
       "      <td>Drama</td>\n",
       "      <td>popular</td>\n",
       "    </tr>\n",
       "    <tr>\n",
       "      <th>25792</th>\n",
       "      <td>1984</td>\n",
       "      <td>Threads</td>\n",
       "      <td>13.354</td>\n",
       "      <td>186</td>\n",
       "      <td>7.8</td>\n",
       "      <td>Science Fiction</td>\n",
       "      <td>popular</td>\n",
       "    </tr>\n",
       "  </tbody>\n",
       "</table>\n",
       "</div>"
      ],
      "text/plain": [
       "       Release_Date                                 Title  Popularity  \\\n",
       "25787          2021  The United States vs. Billie Holiday      13.354   \n",
       "25788          2021  The United States vs. Billie Holiday      13.354   \n",
       "25789          2021  The United States vs. Billie Holiday      13.354   \n",
       "25790          1984                               Threads      13.354   \n",
       "25791          1984                               Threads      13.354   \n",
       "25792          1984                               Threads      13.354   \n",
       "\n",
       "       Vote_Count  Vote_Average            Genre Vote_Average_categorized  \n",
       "25787         152           6.7            Music                  average  \n",
       "25788         152           6.7            Drama                  average  \n",
       "25789         152           6.7          History                  average  \n",
       "25790         186           7.8              War                  popular  \n",
       "25791         186           7.8            Drama                  popular  \n",
       "25792         186           7.8  Science Fiction                  popular  "
      ]
     },
     "execution_count": 77,
     "metadata": {},
     "output_type": "execute_result"
    }
   ],
   "source": [
    "# checking max popularity in dataset\n",
    "df[df['Popularity'] == df['Popularity'].min()]"
   ]
  },
  {
   "cell_type": "markdown",
   "id": "8d288e22-b5a6-4b41-a4f0-ad72f5e0bf17",
   "metadata": {},
   "source": [
    "Q5: Which year has the most filmmed movies?\n"
   ]
  },
  {
   "cell_type": "code",
   "execution_count": 78,
   "id": "82c92b55-e7cb-44d4-a407-75a838cca9f6",
   "metadata": {},
   "outputs": [
    {
     "data": {
      "image/png": "[encoded data removed]",
      "text/plain": [
       "<Figure size 640x480 with 1 Axes>"
      ]
     },
     "metadata": {},
     "output_type": "display_data"
    }
   ],
   "source": [
    "df['Release_Date'].hist()\n",
    "plt.title('Release_Date column distribution')\n",
    "plt.show()"
   ]
  },
  {
   "cell_type": "markdown",
   "id": "9f57aaa7-691f-41b6-89a5-09203093bee6",
   "metadata": {},
   "source": [
    "Conclusion"
   ]
  },
  {
   "cell_type": "markdown",
   "id": "d316a1c1-b4f6-4c20-a569-2faed8309ba4",
   "metadata": {},
   "source": [
    "Q1: What is the most frequent genre in the dataset?\n",
    "Drama genre is the most frequent genre in our dataset and has appeared more than\n",
    "14% of the times among 19 other genres.\n",
    "\n",
    "Q2: What genres has highest votes ?\n",
    "we have 25.5% of our dataset with popular vote (6520 rows). Drama again gets the\n",
    "highest popularity among fans by being having more than 18.5% of movies popularities.\n",
    "\n",
    "Q3: What movie got the highest popularity ? what's its genre ?\n",
    "Spider-Man: No Way Home has the highest popularity rate in our dataset and it has\n",
    "genres of Action , Adventure and Sience Fiction .\n",
    "\n",
    "Q3: What movie got the lowest popularity ? what's its genre ?\n",
    "The united states, thread' has the highest lowest rate in our dataset\n",
    "and it has genres of music , drama , 'war', 'sci-fi' and history`.\n",
    "\n",
    "Q4: Which year has the most filmmed movies?\n",
    "year 2020 has the highest filmming rate in our dataset."
   ]
  },
  {
   "cell_type": "code",
   "execution_count": null,
   "id": "f6b37ee3-8da1-4065-9ec1-c3256af17d72",
   "metadata": {},
   "outputs": [],
   "source": []
  },
  {
   "cell_type": "code",
   "execution_count": null,
   "id": "a376d40d-3d1f-4a1b-ad63-997793dea203",
   "metadata": {},
   "outputs": [],
   "source": []
  },
  {
   "cell_type": "code",
   "execution_count": null,
   "id": "35c714ed-ad49-4043-be36-c86ebcba9a4d",
   "metadata": {},
   "outputs": [],
   "source": []
  }
 ],
 "metadata": {
  "kernelspec": {
   "display_name": "Python 3 (ipykernel)",
   "language": "python",
   "name": "python3"
  },
  "language_info": {
   "codemirror_mode": {
    "name": "ipython",
    "version": 3
   },
   "file_extension": ".py",
   "mimetype": "text/x-python",
   "name": "python",
   "nbconvert_exporter": "python",
   "pygments_lexer": "ipython3",
   "version": "3.12.7"
  }
 },
 "nbformat": 4,
 "nbformat_minor": 5
}
